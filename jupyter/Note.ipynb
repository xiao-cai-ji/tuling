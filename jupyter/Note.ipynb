{
 "cells": [
  {
   "metadata": {},
   "cell_type": "markdown",
   "source": "",
   "id": "cac3c87b243ea51a"
  },
  {
   "cell_type": "code",
   "id": "initial_id",
   "metadata": {
    "collapsed": true,
    "ExecuteTime": {
     "end_time": "2024-10-17T09:50:53.553708Z",
     "start_time": "2024-10-17T09:50:53.532714Z"
    }
   },
   "source": [
    "import math\n",
    "\n",
    "from numpy import matrix\n",
    "\n",
    "1+1"
   ],
   "outputs": [
    {
     "data": {
      "text/plain": [
       "2"
      ]
     },
     "execution_count": 1,
     "metadata": {},
     "output_type": "execute_result"
    }
   ],
   "execution_count": 1
  },
  {
   "metadata": {
    "ExecuteTime": {
     "end_time": "2024-10-17T09:51:51.653696Z",
     "start_time": "2024-10-17T09:51:51.640495Z"
    }
   },
   "cell_type": "code",
   "source": "print('Hello world')",
   "id": "12b98abe2759d535",
   "outputs": [
    {
     "name": "stdout",
     "output_type": "stream",
     "text": [
      "Hello world\n"
     ]
    }
   ],
   "execution_count": 2
  },
  {
   "metadata": {
    "ExecuteTime": {
     "end_time": "2024-10-17T09:59:04.922295Z",
     "start_time": "2024-10-17T09:59:04.905297Z"
    }
   },
   "cell_type": "code",
   "source": [
    "matrix=[\n",
    "    [1,2,3],\n",
    "    [4,5,6],\n",
    "    [7,8,9]\n",
    "]\n",
    "[[i+1 for i in row] for row in matrix]"
   ],
   "id": "59ef298c4c3b48e0",
   "outputs": [
    {
     "data": {
      "text/plain": [
       "[[2, 3, 4], [5, 6, 7], [8, 9, 10]]"
      ]
     },
     "execution_count": 3,
     "metadata": {},
     "output_type": "execute_result"
    }
   ],
   "execution_count": 3
  },
  {
   "metadata": {
    "ExecuteTime": {
     "end_time": "2024-10-17T10:05:26.265021Z",
     "start_time": "2024-10-17T10:05:26.246980Z"
    }
   },
   "cell_type": "code",
   "outputs": [
    {
     "data": {
      "text/plain": [
       "dtype('int32')"
      ]
     },
     "execution_count": 7,
     "metadata": {},
     "output_type": "execute_result"
    }
   ],
   "execution_count": 7,
   "source": [
    "# 导入Numpy\n",
    "import numpy as np\n",
    "array1=np.array([10,100,1000]) # 列表构建一个一维数组\n",
    "array2=np.array([[1.,2.,3.],[4.,5.,6.]])# 使用嵌套构建一个二维数组\n",
    "array1.dtype"
   ],
   "id": "281325f130a8baf3"
  },
  {
   "metadata": {
    "ExecuteTime": {
     "end_time": "2024-10-17T10:06:18.047400Z",
     "start_time": "2024-10-17T10:06:18.030401Z"
    }
   },
   "cell_type": "code",
   "outputs": [
    {
     "data": {
      "text/plain": [
       "10.0"
      ]
     },
     "execution_count": 8,
     "metadata": {},
     "output_type": "execute_result"
    }
   ],
   "execution_count": 8,
   "source": "float(array1[0])",
   "id": "431e5f98d1b736c0"
  },
  {
   "metadata": {
    "ExecuteTime": {
     "end_time": "2024-10-17T10:07:03.984417Z",
     "start_time": "2024-10-17T10:07:03.967416Z"
    }
   },
   "cell_type": "code",
   "source": "array2+1",
   "id": "c91a29642f2a1f1d",
   "outputs": [
    {
     "data": {
      "text/plain": [
       "array([[2., 3., 4.],\n",
       "       [5., 6., 7.]])"
      ]
     },
     "execution_count": 9,
     "metadata": {},
     "output_type": "execute_result"
    }
   ],
   "execution_count": 9
  },
  {
   "metadata": {
    "ExecuteTime": {
     "end_time": "2024-10-17T10:07:53.234275Z",
     "start_time": "2024-10-17T10:07:53.218275Z"
    }
   },
   "cell_type": "code",
   "source": "array2*array2",
   "id": "8160dc7f391d79de",
   "outputs": [
    {
     "data": {
      "text/plain": [
       "array([[ 1.,  4.,  9.],\n",
       "       [16., 25., 36.]])"
      ]
     },
     "execution_count": 10,
     "metadata": {},
     "output_type": "execute_result"
    }
   ],
   "execution_count": 10
  },
  {
   "metadata": {
    "ExecuteTime": {
     "end_time": "2024-10-17T10:14:52.957993Z",
     "start_time": "2024-10-17T10:14:52.945994Z"
    }
   },
   "cell_type": "code",
   "source": [
    "import math \n",
    "np.array([[math.sqrt(i) for i in row] for row in array2])"
   ],
   "id": "789eb3239b71cb48",
   "outputs": [
    {
     "data": {
      "text/plain": [
       "array([[1.        , 1.41421356, 1.73205081],\n",
       "       [2.        , 2.23606798, 2.44948974]])"
      ]
     },
     "execution_count": 13,
     "metadata": {},
     "output_type": "execute_result"
    }
   ],
   "execution_count": 13
  },
  {
   "metadata": {
    "ExecuteTime": {
     "end_time": "2024-10-17T10:15:57.331155Z",
     "start_time": "2024-10-17T10:15:57.320836Z"
    }
   },
   "cell_type": "code",
   "source": "np.sqrt(array2)",
   "id": "853e1855459fc9c",
   "outputs": [
    {
     "data": {
      "text/plain": [
       "array([[1.        , 1.41421356, 1.73205081],\n",
       "       [2.        , 2.23606798, 2.44948974]])"
      ]
     },
     "execution_count": 14,
     "metadata": {},
     "output_type": "execute_result"
    }
   ],
   "execution_count": 14
  },
  {
   "metadata": {
    "ExecuteTime": {
     "end_time": "2024-10-17T10:19:45.453044Z",
     "start_time": "2024-10-17T10:19:45.441041Z"
    }
   },
   "cell_type": "code",
   "source": "array2.sum(axis=0)# 返回维数组 axis=0 表示以行为轴，1 是表示以列为轴",
   "id": "89822d7baa019d01",
   "outputs": [
    {
     "data": {
      "text/plain": [
       "array([5., 7., 9.])"
      ]
     },
     "execution_count": 17,
     "metadata": {},
     "output_type": "execute_result"
    }
   ],
   "execution_count": 17
  },
  {
   "metadata": {
    "ExecuteTime": {
     "end_time": "2024-10-17T10:20:02.331237Z",
     "start_time": "2024-10-17T10:20:02.317206Z"
    }
   },
   "cell_type": "code",
   "source": "array2.sum()# 表示把数组内的所有数组加起来",
   "id": "24b0d8c41718b22d",
   "outputs": [
    {
     "data": {
      "text/plain": [
       "21.0"
      ]
     },
     "execution_count": 18,
     "metadata": {},
     "output_type": "execute_result"
    }
   ],
   "execution_count": 18
  },
  {
   "metadata": {
    "ExecuteTime": {
     "end_time": "2024-10-17T10:22:33.546321Z",
     "start_time": "2024-10-17T10:22:33.534324Z"
    }
   },
   "cell_type": "code",
   "source": "array1[2]",
   "id": "cee120b1c8dca87e",
   "outputs": [
    {
     "data": {
      "text/plain": [
       "1000"
      ]
     },
     "execution_count": 19,
     "metadata": {},
     "output_type": "execute_result"
    }
   ],
   "execution_count": 19
  },
  {
   "metadata": {
    "ExecuteTime": {
     "end_time": "2024-10-17T10:23:12.543431Z",
     "start_time": "2024-10-17T10:23:12.528147Z"
    }
   },
   "cell_type": "code",
   "source": "array2[0,0]",
   "id": "ddb25924a51ed753",
   "outputs": [
    {
     "data": {
      "text/plain": [
       "1.0"
      ]
     },
     "execution_count": 20,
     "metadata": {},
     "output_type": "execute_result"
    }
   ],
   "execution_count": 20
  },
  {
   "metadata": {
    "ExecuteTime": {
     "end_time": "2024-10-17T10:23:47.900775Z",
     "start_time": "2024-10-17T10:23:47.852742Z"
    }
   },
   "cell_type": "code",
   "source": "array2[:,1:]",
   "id": "7feaf7a09db172ba",
   "outputs": [
    {
     "data": {
      "text/plain": [
       "array([[2., 3.],\n",
       "       [5., 6.]])"
      ]
     },
     "execution_count": 21,
     "metadata": {},
     "output_type": "execute_result"
    }
   ],
   "execution_count": 21
  },
  {
   "metadata": {
    "ExecuteTime": {
     "end_time": "2024-10-17T10:24:53.098646Z",
     "start_time": "2024-10-17T10:24:53.086643Z"
    }
   },
   "cell_type": "code",
   "source": "array2[:,1]#返回一维数组",
   "id": "402e920e1cb6b54c",
   "outputs": [
    {
     "data": {
      "text/plain": [
       "array([2., 5.])"
      ]
     },
     "execution_count": 22,
     "metadata": {},
     "output_type": "execute_result"
    }
   ],
   "execution_count": 22
  },
  {
   "metadata": {
    "ExecuteTime": {
     "end_time": "2024-10-17T10:26:13.897855Z",
     "start_time": "2024-10-17T10:26:13.890821Z"
    }
   },
   "cell_type": "code",
   "source": "array2[1,:2]",
   "id": "a2be16b4ed9e8b99",
   "outputs": [
    {
     "data": {
      "text/plain": [
       "array([4., 5.])"
      ]
     },
     "execution_count": 24,
     "metadata": {},
     "output_type": "execute_result"
    }
   ],
   "execution_count": 24
  },
  {
   "metadata": {
    "ExecuteTime": {
     "end_time": "2024-10-17T10:27:10.827113Z",
     "start_time": "2024-10-17T10:27:10.817143Z"
    }
   },
   "cell_type": "code",
   "source": "np.arange(2*5).reshape(2,5)# array 代表array range (数组范围)  通过arange 和reshape 可以快速生成指定纬度的数组",
   "id": "fa8575601e2af27b",
   "outputs": [
    {
     "data": {
      "text/plain": [
       "array([[0, 1, 2, 3, 4],\n",
       "       [5, 6, 7, 8, 9]])"
      ]
     },
     "execution_count": 26,
     "metadata": {},
     "output_type": "execute_result"
    }
   ],
   "execution_count": 26
  },
  {
   "metadata": {
    "ExecuteTime": {
     "end_time": "2024-10-17T10:29:39.987568Z",
     "start_time": "2024-10-17T10:29:39.942760Z"
    }
   },
   "cell_type": "code",
   "source": "np.random.randn(2,3) # 蒙特卡罗模拟，生成服从正态分布的伪随机数数组",
   "id": "13926124b7236f66",
   "outputs": [
    {
     "data": {
      "text/plain": [
       "array([[ 1.09173246, -0.5967623 ,  0.23742912],\n",
       "       [-3.72345251, -0.01103002, -1.05698052]])"
      ]
     },
     "execution_count": 27,
     "metadata": {},
     "output_type": "execute_result"
    }
   ],
   "execution_count": 27
  },
  {
   "metadata": {
    "ExecuteTime": {
     "end_time": "2024-10-17T10:58:57.787059Z",
     "start_time": "2024-10-17T10:58:56.643789Z"
    }
   },
   "cell_type": "code",
   "source": [
    "import pandas as pd\n",
    "pd.read_excel('E:/pythonProject3/pythonProject3/jupyter/course_participants.xlsx')"
   ],
   "id": "1007b90c37364db8",
   "outputs": [
    {
     "data": {
      "text/plain": [
       "   user_id   name  age  country   score continent\n",
       "0     1001   Mark   55    Italy 4.50000    Europe\n",
       "1     1000   John   33      USA 6.70000   America\n",
       "2     1002    Tim   41      USA 3.90000   America\n",
       "3     1003  Jenny   12  Germany 9.00000    Europe"
      ],
      "text/html": [
       "<div>\n",
       "<style scoped>\n",
       "    .dataframe tbody tr th:only-of-type {\n",
       "        vertical-align: middle;\n",
       "    }\n",
       "\n",
       "    .dataframe tbody tr th {\n",
       "        vertical-align: top;\n",
       "    }\n",
       "\n",
       "    .dataframe thead th {\n",
       "        text-align: right;\n",
       "    }\n",
       "</style>\n",
       "<table border=\"1\" class=\"dataframe\">\n",
       "  <thead>\n",
       "    <tr style=\"text-align: right;\">\n",
       "      <th></th>\n",
       "      <th>user_id</th>\n",
       "      <th>name</th>\n",
       "      <th>age</th>\n",
       "      <th>country</th>\n",
       "      <th>score</th>\n",
       "      <th>continent</th>\n",
       "    </tr>\n",
       "  </thead>\n",
       "  <tbody>\n",
       "    <tr>\n",
       "      <th>0</th>\n",
       "      <td>1001</td>\n",
       "      <td>Mark</td>\n",
       "      <td>55</td>\n",
       "      <td>Italy</td>\n",
       "      <td>4.50000</td>\n",
       "      <td>Europe</td>\n",
       "    </tr>\n",
       "    <tr>\n",
       "      <th>1</th>\n",
       "      <td>1000</td>\n",
       "      <td>John</td>\n",
       "      <td>33</td>\n",
       "      <td>USA</td>\n",
       "      <td>6.70000</td>\n",
       "      <td>America</td>\n",
       "    </tr>\n",
       "    <tr>\n",
       "      <th>2</th>\n",
       "      <td>1002</td>\n",
       "      <td>Tim</td>\n",
       "      <td>41</td>\n",
       "      <td>USA</td>\n",
       "      <td>3.90000</td>\n",
       "      <td>America</td>\n",
       "    </tr>\n",
       "    <tr>\n",
       "      <th>3</th>\n",
       "      <td>1003</td>\n",
       "      <td>Jenny</td>\n",
       "      <td>12</td>\n",
       "      <td>Germany</td>\n",
       "      <td>9.00000</td>\n",
       "      <td>Europe</td>\n",
       "    </tr>\n",
       "  </tbody>\n",
       "</table>\n",
       "</div>"
      ]
     },
     "execution_count": 29,
     "metadata": {},
     "output_type": "execute_result"
    }
   ],
   "execution_count": 29
  },
  {
   "metadata": {
    "ExecuteTime": {
     "end_time": "2024-10-17T11:04:33.683748Z",
     "start_time": "2024-10-17T11:04:33.662990Z"
    }
   },
   "cell_type": "code",
   "source": [
    "data=[['Mark',55,'Italy',4.5,'Europe'],\n",
    "        ['John',33,'USA',6.7,'Europe']\n",
    "      ]\n",
    "df=pd.DataFrame(data=data,columns=['Name','Age','Country','Score','Continent'],index=[1001,1002])\n",
    "df"
   ],
   "id": "4e6b2aa4edf1eb74",
   "outputs": [
    {
     "data": {
      "text/plain": [
       "      Name  Age Country   Score Continent\n",
       "1001  Mark   55   Italy 4.50000    Europe\n",
       "1002  John   33     USA 6.70000    Europe"
      ],
      "text/html": [
       "<div>\n",
       "<style scoped>\n",
       "    .dataframe tbody tr th:only-of-type {\n",
       "        vertical-align: middle;\n",
       "    }\n",
       "\n",
       "    .dataframe tbody tr th {\n",
       "        vertical-align: top;\n",
       "    }\n",
       "\n",
       "    .dataframe thead th {\n",
       "        text-align: right;\n",
       "    }\n",
       "</style>\n",
       "<table border=\"1\" class=\"dataframe\">\n",
       "  <thead>\n",
       "    <tr style=\"text-align: right;\">\n",
       "      <th></th>\n",
       "      <th>Name</th>\n",
       "      <th>Age</th>\n",
       "      <th>Country</th>\n",
       "      <th>Score</th>\n",
       "      <th>Continent</th>\n",
       "    </tr>\n",
       "  </thead>\n",
       "  <tbody>\n",
       "    <tr>\n",
       "      <th>1001</th>\n",
       "      <td>Mark</td>\n",
       "      <td>55</td>\n",
       "      <td>Italy</td>\n",
       "      <td>4.50000</td>\n",
       "      <td>Europe</td>\n",
       "    </tr>\n",
       "    <tr>\n",
       "      <th>1002</th>\n",
       "      <td>John</td>\n",
       "      <td>33</td>\n",
       "      <td>USA</td>\n",
       "      <td>6.70000</td>\n",
       "      <td>Europe</td>\n",
       "    </tr>\n",
       "  </tbody>\n",
       "</table>\n",
       "</div>"
      ]
     },
     "execution_count": 31,
     "metadata": {},
     "output_type": "execute_result"
    }
   ],
   "execution_count": 31
  },
  {
   "metadata": {
    "ExecuteTime": {
     "end_time": "2024-10-17T11:05:09.534740Z",
     "start_time": "2024-10-17T11:05:09.409627Z"
    }
   },
   "cell_type": "code",
   "source": "df.info()",
   "id": "a0dfa293b8b4d5e1",
   "outputs": [
    {
     "name": "stdout",
     "output_type": "stream",
     "text": [
      "<class 'pandas.core.frame.DataFrame'>\n",
      "Int64Index: 2 entries, 1001 to 1002\n",
      "Data columns (total 5 columns):\n",
      " #   Column     Non-Null Count  Dtype  \n",
      "---  ------     --------------  -----  \n",
      " 0   Name       2 non-null      object \n",
      " 1   Age        2 non-null      int64  \n",
      " 2   Country    2 non-null      object \n",
      " 3   Score      2 non-null      float64\n",
      " 4   Continent  2 non-null      object \n",
      "dtypes: float64(1), int64(1), object(3)\n",
      "memory usage: 96.0+ bytes\n"
     ]
    }
   ],
   "execution_count": 32
  },
  {
   "metadata": {
    "ExecuteTime": {
     "end_time": "2024-10-17T11:05:42.213736Z",
     "start_time": "2024-10-17T11:05:42.200715Z"
    }
   },
   "cell_type": "code",
   "source": "df.index",
   "id": "eb3d789df3604dd8",
   "outputs": [
    {
     "data": {
      "text/plain": [
       "Int64Index([1001, 1002], dtype='int64')"
      ]
     },
     "execution_count": 33,
     "metadata": {},
     "output_type": "execute_result"
    }
   ],
   "execution_count": 33
  },
  {
   "metadata": {
    "ExecuteTime": {
     "end_time": "2024-10-17T11:06:23.733922Z",
     "start_time": "2024-10-17T11:06:23.720925Z"
    }
   },
   "cell_type": "code",
   "source": [
    "df.index.name='Use_id'\n",
    "df"
   ],
   "id": "bfc469653222c32a",
   "outputs": [
    {
     "data": {
      "text/plain": [
       "        Name  Age Country   Score Continent\n",
       "Use_id                                     \n",
       "1001    Mark   55   Italy 4.50000    Europe\n",
       "1002    John   33     USA 6.70000    Europe"
      ],
      "text/html": [
       "<div>\n",
       "<style scoped>\n",
       "    .dataframe tbody tr th:only-of-type {\n",
       "        vertical-align: middle;\n",
       "    }\n",
       "\n",
       "    .dataframe tbody tr th {\n",
       "        vertical-align: top;\n",
       "    }\n",
       "\n",
       "    .dataframe thead th {\n",
       "        text-align: right;\n",
       "    }\n",
       "</style>\n",
       "<table border=\"1\" class=\"dataframe\">\n",
       "  <thead>\n",
       "    <tr style=\"text-align: right;\">\n",
       "      <th></th>\n",
       "      <th>Name</th>\n",
       "      <th>Age</th>\n",
       "      <th>Country</th>\n",
       "      <th>Score</th>\n",
       "      <th>Continent</th>\n",
       "    </tr>\n",
       "    <tr>\n",
       "      <th>Use_id</th>\n",
       "      <th></th>\n",
       "      <th></th>\n",
       "      <th></th>\n",
       "      <th></th>\n",
       "      <th></th>\n",
       "    </tr>\n",
       "  </thead>\n",
       "  <tbody>\n",
       "    <tr>\n",
       "      <th>1001</th>\n",
       "      <td>Mark</td>\n",
       "      <td>55</td>\n",
       "      <td>Italy</td>\n",
       "      <td>4.50000</td>\n",
       "      <td>Europe</td>\n",
       "    </tr>\n",
       "    <tr>\n",
       "      <th>1002</th>\n",
       "      <td>John</td>\n",
       "      <td>33</td>\n",
       "      <td>USA</td>\n",
       "      <td>6.70000</td>\n",
       "      <td>Europe</td>\n",
       "    </tr>\n",
       "  </tbody>\n",
       "</table>\n",
       "</div>"
      ]
     },
     "execution_count": 35,
     "metadata": {},
     "output_type": "execute_result"
    }
   ],
   "execution_count": 35
  },
  {
   "metadata": {
    "ExecuteTime": {
     "end_time": "2024-10-17T11:07:15.330701Z",
     "start_time": "2024-10-17T11:07:15.255701Z"
    }
   },
   "cell_type": "code",
   "source": [
    "df.reset_index()# 将索引还原为普通列，同时用默认索引替换当前索引\n",
    "# 最终结果和刚开始一样\n",
    "df"
   ],
   "id": "a775590892f10bf",
   "outputs": [
    {
     "data": {
      "text/plain": [
       "        Name  Age Country   Score Continent\n",
       "Use_id                                     \n",
       "1001    Mark   55   Italy 4.50000    Europe\n",
       "1002    John   33     USA 6.70000    Europe"
      ],
      "text/html": [
       "<div>\n",
       "<style scoped>\n",
       "    .dataframe tbody tr th:only-of-type {\n",
       "        vertical-align: middle;\n",
       "    }\n",
       "\n",
       "    .dataframe tbody tr th {\n",
       "        vertical-align: top;\n",
       "    }\n",
       "\n",
       "    .dataframe thead th {\n",
       "        text-align: right;\n",
       "    }\n",
       "</style>\n",
       "<table border=\"1\" class=\"dataframe\">\n",
       "  <thead>\n",
       "    <tr style=\"text-align: right;\">\n",
       "      <th></th>\n",
       "      <th>Name</th>\n",
       "      <th>Age</th>\n",
       "      <th>Country</th>\n",
       "      <th>Score</th>\n",
       "      <th>Continent</th>\n",
       "    </tr>\n",
       "    <tr>\n",
       "      <th>Use_id</th>\n",
       "      <th></th>\n",
       "      <th></th>\n",
       "      <th></th>\n",
       "      <th></th>\n",
       "      <th></th>\n",
       "    </tr>\n",
       "  </thead>\n",
       "  <tbody>\n",
       "    <tr>\n",
       "      <th>1001</th>\n",
       "      <td>Mark</td>\n",
       "      <td>55</td>\n",
       "      <td>Italy</td>\n",
       "      <td>4.50000</td>\n",
       "      <td>Europe</td>\n",
       "    </tr>\n",
       "    <tr>\n",
       "      <th>1002</th>\n",
       "      <td>John</td>\n",
       "      <td>33</td>\n",
       "      <td>USA</td>\n",
       "      <td>6.70000</td>\n",
       "      <td>Europe</td>\n",
       "    </tr>\n",
       "  </tbody>\n",
       "</table>\n",
       "</div>"
      ]
     },
     "execution_count": 36,
     "metadata": {},
     "output_type": "execute_result"
    }
   ],
   "execution_count": 36
  },
  {
   "metadata": {
    "ExecuteTime": {
     "end_time": "2024-10-17T11:08:28.583865Z",
     "start_time": "2024-10-17T11:08:28.559867Z"
    }
   },
   "cell_type": "code",
   "source": [
    "df.reset_index().set_index('Name')# index 将User_id 还原成普通列 set_index 将name 列设置为索引\n",
    "#以上用的这形式为链式方法调用"
   ],
   "id": "f9e303e386f5c008",
   "outputs": [
    {
     "data": {
      "text/plain": [
       "      Use_id  Age Country   Score Continent\n",
       "Name                                       \n",
       "Mark    1001   55   Italy 4.50000    Europe\n",
       "John    1002   33     USA 6.70000    Europe"
      ],
      "text/html": [
       "<div>\n",
       "<style scoped>\n",
       "    .dataframe tbody tr th:only-of-type {\n",
       "        vertical-align: middle;\n",
       "    }\n",
       "\n",
       "    .dataframe tbody tr th {\n",
       "        vertical-align: top;\n",
       "    }\n",
       "\n",
       "    .dataframe thead th {\n",
       "        text-align: right;\n",
       "    }\n",
       "</style>\n",
       "<table border=\"1\" class=\"dataframe\">\n",
       "  <thead>\n",
       "    <tr style=\"text-align: right;\">\n",
       "      <th></th>\n",
       "      <th>Use_id</th>\n",
       "      <th>Age</th>\n",
       "      <th>Country</th>\n",
       "      <th>Score</th>\n",
       "      <th>Continent</th>\n",
       "    </tr>\n",
       "    <tr>\n",
       "      <th>Name</th>\n",
       "      <th></th>\n",
       "      <th></th>\n",
       "      <th></th>\n",
       "      <th></th>\n",
       "      <th></th>\n",
       "    </tr>\n",
       "  </thead>\n",
       "  <tbody>\n",
       "    <tr>\n",
       "      <th>Mark</th>\n",
       "      <td>1001</td>\n",
       "      <td>55</td>\n",
       "      <td>Italy</td>\n",
       "      <td>4.50000</td>\n",
       "      <td>Europe</td>\n",
       "    </tr>\n",
       "    <tr>\n",
       "      <th>John</th>\n",
       "      <td>1002</td>\n",
       "      <td>33</td>\n",
       "      <td>USA</td>\n",
       "      <td>6.70000</td>\n",
       "      <td>Europe</td>\n",
       "    </tr>\n",
       "  </tbody>\n",
       "</table>\n",
       "</div>"
      ]
     },
     "execution_count": 37,
     "metadata": {},
     "output_type": "execute_result"
    }
   ],
   "execution_count": 37
  },
  {
   "metadata": {
    "ExecuteTime": {
     "end_time": "2024-10-17T11:15:31.188407Z",
     "start_time": "2024-10-17T11:15:31.171409Z"
    }
   },
   "cell_type": "code",
   "source": "df.reset_index().set_index('Use_id')",
   "id": "12d7fbc5918d165b",
   "outputs": [
    {
     "data": {
      "text/plain": [
       "        Name  Age Country   Score Continent\n",
       "Use_id                                     \n",
       "1001    Mark   55   Italy 4.50000    Europe\n",
       "1002    John   33     USA 6.70000    Europe"
      ],
      "text/html": [
       "<div>\n",
       "<style scoped>\n",
       "    .dataframe tbody tr th:only-of-type {\n",
       "        vertical-align: middle;\n",
       "    }\n",
       "\n",
       "    .dataframe tbody tr th {\n",
       "        vertical-align: top;\n",
       "    }\n",
       "\n",
       "    .dataframe thead th {\n",
       "        text-align: right;\n",
       "    }\n",
       "</style>\n",
       "<table border=\"1\" class=\"dataframe\">\n",
       "  <thead>\n",
       "    <tr style=\"text-align: right;\">\n",
       "      <th></th>\n",
       "      <th>Name</th>\n",
       "      <th>Age</th>\n",
       "      <th>Country</th>\n",
       "      <th>Score</th>\n",
       "      <th>Continent</th>\n",
       "    </tr>\n",
       "    <tr>\n",
       "      <th>Use_id</th>\n",
       "      <th></th>\n",
       "      <th></th>\n",
       "      <th></th>\n",
       "      <th></th>\n",
       "      <th></th>\n",
       "    </tr>\n",
       "  </thead>\n",
       "  <tbody>\n",
       "    <tr>\n",
       "      <th>1001</th>\n",
       "      <td>Mark</td>\n",
       "      <td>55</td>\n",
       "      <td>Italy</td>\n",
       "      <td>4.50000</td>\n",
       "      <td>Europe</td>\n",
       "    </tr>\n",
       "    <tr>\n",
       "      <th>1002</th>\n",
       "      <td>John</td>\n",
       "      <td>33</td>\n",
       "      <td>USA</td>\n",
       "      <td>6.70000</td>\n",
       "      <td>Europe</td>\n",
       "    </tr>\n",
       "  </tbody>\n",
       "</table>\n",
       "</div>"
      ]
     },
     "execution_count": 40,
     "metadata": {},
     "output_type": "execute_result"
    }
   ],
   "execution_count": 40
  },
  {
   "metadata": {
    "ExecuteTime": {
     "end_time": "2024-10-17T11:16:09.076375Z",
     "start_time": "2024-10-17T11:16:09.047595Z"
    }
   },
   "cell_type": "code",
   "source": "df.reindex([999,1001,1002])# 用reindex方法更换索引",
   "id": "aea71e32853cf796",
   "outputs": [
    {
     "data": {
      "text/plain": [
       "        Name      Age Country   Score Continent\n",
       "Use_id                                         \n",
       "999      NaN      NaN     NaN     NaN       NaN\n",
       "1001    Mark 55.00000   Italy 4.50000    Europe\n",
       "1002    John 33.00000     USA 6.70000    Europe"
      ],
      "text/html": [
       "<div>\n",
       "<style scoped>\n",
       "    .dataframe tbody tr th:only-of-type {\n",
       "        vertical-align: middle;\n",
       "    }\n",
       "\n",
       "    .dataframe tbody tr th {\n",
       "        vertical-align: top;\n",
       "    }\n",
       "\n",
       "    .dataframe thead th {\n",
       "        text-align: right;\n",
       "    }\n",
       "</style>\n",
       "<table border=\"1\" class=\"dataframe\">\n",
       "  <thead>\n",
       "    <tr style=\"text-align: right;\">\n",
       "      <th></th>\n",
       "      <th>Name</th>\n",
       "      <th>Age</th>\n",
       "      <th>Country</th>\n",
       "      <th>Score</th>\n",
       "      <th>Continent</th>\n",
       "    </tr>\n",
       "    <tr>\n",
       "      <th>Use_id</th>\n",
       "      <th></th>\n",
       "      <th></th>\n",
       "      <th></th>\n",
       "      <th></th>\n",
       "      <th></th>\n",
       "    </tr>\n",
       "  </thead>\n",
       "  <tbody>\n",
       "    <tr>\n",
       "      <th>999</th>\n",
       "      <td>NaN</td>\n",
       "      <td>NaN</td>\n",
       "      <td>NaN</td>\n",
       "      <td>NaN</td>\n",
       "      <td>NaN</td>\n",
       "    </tr>\n",
       "    <tr>\n",
       "      <th>1001</th>\n",
       "      <td>Mark</td>\n",
       "      <td>55.00000</td>\n",
       "      <td>Italy</td>\n",
       "      <td>4.50000</td>\n",
       "      <td>Europe</td>\n",
       "    </tr>\n",
       "    <tr>\n",
       "      <th>1002</th>\n",
       "      <td>John</td>\n",
       "      <td>33.00000</td>\n",
       "      <td>USA</td>\n",
       "      <td>6.70000</td>\n",
       "      <td>Europe</td>\n",
       "    </tr>\n",
       "  </tbody>\n",
       "</table>\n",
       "</div>"
      ]
     },
     "execution_count": 41,
     "metadata": {},
     "output_type": "execute_result"
    }
   ],
   "execution_count": 41
  },
  {
   "metadata": {
    "ExecuteTime": {
     "end_time": "2024-10-17T11:17:36.566977Z",
     "start_time": "2024-10-17T11:17:36.552977Z"
    }
   },
   "cell_type": "code",
   "source": "df.sort_index()# 安装索引进行排序",
   "id": "5e985bafba83f63a",
   "outputs": [
    {
     "data": {
      "text/plain": [
       "        Name  Age Country   Score Continent\n",
       "Use_id                                     \n",
       "1001    Mark   55   Italy 4.50000    Europe\n",
       "1002    John   33     USA 6.70000    Europe"
      ],
      "text/html": [
       "<div>\n",
       "<style scoped>\n",
       "    .dataframe tbody tr th:only-of-type {\n",
       "        vertical-align: middle;\n",
       "    }\n",
       "\n",
       "    .dataframe tbody tr th {\n",
       "        vertical-align: top;\n",
       "    }\n",
       "\n",
       "    .dataframe thead th {\n",
       "        text-align: right;\n",
       "    }\n",
       "</style>\n",
       "<table border=\"1\" class=\"dataframe\">\n",
       "  <thead>\n",
       "    <tr style=\"text-align: right;\">\n",
       "      <th></th>\n",
       "      <th>Name</th>\n",
       "      <th>Age</th>\n",
       "      <th>Country</th>\n",
       "      <th>Score</th>\n",
       "      <th>Continent</th>\n",
       "    </tr>\n",
       "    <tr>\n",
       "      <th>Use_id</th>\n",
       "      <th></th>\n",
       "      <th></th>\n",
       "      <th></th>\n",
       "      <th></th>\n",
       "      <th></th>\n",
       "    </tr>\n",
       "  </thead>\n",
       "  <tbody>\n",
       "    <tr>\n",
       "      <th>1001</th>\n",
       "      <td>Mark</td>\n",
       "      <td>55</td>\n",
       "      <td>Italy</td>\n",
       "      <td>4.50000</td>\n",
       "      <td>Europe</td>\n",
       "    </tr>\n",
       "    <tr>\n",
       "      <th>1002</th>\n",
       "      <td>John</td>\n",
       "      <td>33</td>\n",
       "      <td>USA</td>\n",
       "      <td>6.70000</td>\n",
       "      <td>Europe</td>\n",
       "    </tr>\n",
       "  </tbody>\n",
       "</table>\n",
       "</div>"
      ]
     },
     "execution_count": 42,
     "metadata": {},
     "output_type": "execute_result"
    }
   ],
   "execution_count": 42
  },
  {
   "metadata": {
    "ExecuteTime": {
     "end_time": "2024-10-17T11:19:50.773799Z",
     "start_time": "2024-10-17T11:19:50.702353Z"
    }
   },
   "cell_type": "code",
   "source": "df.sort_values(['Continent','Age'])",
   "id": "fcbb854e68ea1a01",
   "outputs": [
    {
     "data": {
      "text/plain": [
       "        Name  Age Country   Score Continent\n",
       "Use_id                                     \n",
       "1002    John   33     USA 6.70000    Europe\n",
       "1001    Mark   55   Italy 4.50000    Europe"
      ],
      "text/html": [
       "<div>\n",
       "<style scoped>\n",
       "    .dataframe tbody tr th:only-of-type {\n",
       "        vertical-align: middle;\n",
       "    }\n",
       "\n",
       "    .dataframe tbody tr th {\n",
       "        vertical-align: top;\n",
       "    }\n",
       "\n",
       "    .dataframe thead th {\n",
       "        text-align: right;\n",
       "    }\n",
       "</style>\n",
       "<table border=\"1\" class=\"dataframe\">\n",
       "  <thead>\n",
       "    <tr style=\"text-align: right;\">\n",
       "      <th></th>\n",
       "      <th>Name</th>\n",
       "      <th>Age</th>\n",
       "      <th>Country</th>\n",
       "      <th>Score</th>\n",
       "      <th>Continent</th>\n",
       "    </tr>\n",
       "    <tr>\n",
       "      <th>Use_id</th>\n",
       "      <th></th>\n",
       "      <th></th>\n",
       "      <th></th>\n",
       "      <th></th>\n",
       "      <th></th>\n",
       "    </tr>\n",
       "  </thead>\n",
       "  <tbody>\n",
       "    <tr>\n",
       "      <th>1002</th>\n",
       "      <td>John</td>\n",
       "      <td>33</td>\n",
       "      <td>USA</td>\n",
       "      <td>6.70000</td>\n",
       "      <td>Europe</td>\n",
       "    </tr>\n",
       "    <tr>\n",
       "      <th>1001</th>\n",
       "      <td>Mark</td>\n",
       "      <td>55</td>\n",
       "      <td>Italy</td>\n",
       "      <td>4.50000</td>\n",
       "      <td>Europe</td>\n",
       "    </tr>\n",
       "  </tbody>\n",
       "</table>\n",
       "</div>"
      ]
     },
     "execution_count": 45,
     "metadata": {},
     "output_type": "execute_result"
    }
   ],
   "execution_count": 45
  }
 ],
 "metadata": {
  "kernelspec": {
   "display_name": "Python 3",
   "language": "python",
   "name": "python3"
  },
  "language_info": {
   "codemirror_mode": {
    "name": "ipython",
    "version": 2
   },
   "file_extension": ".py",
   "mimetype": "text/x-python",
   "name": "python",
   "nbconvert_exporter": "python",
   "pygments_lexer": "ipython2",
   "version": "2.7.6"
  }
 },
 "nbformat": 4,
 "nbformat_minor": 5
}
